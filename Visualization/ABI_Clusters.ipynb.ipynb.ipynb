{
 "cells": [
  {
   "cell_type": "code",
   "execution_count": 1,
   "metadata": {},
   "outputs": [
    {
     "name": "stderr",
     "output_type": "stream",
     "text": [
      "also installing the dependencies ‘igraph’, ‘gridExtra’, ‘networkD3’\n",
      "\n",
      "\n",
      "Updating HTML index of packages in '.Library'\n",
      "\n",
      "Making 'packages.html' ...\n",
      " done\n",
      "\n"
     ]
    }
   ],
   "source": [
    "install.packages(\"DataExplorer\")\n"
   ]
  },
  {
   "cell_type": "code",
   "execution_count": 4,
   "metadata": {},
   "outputs": [],
   "source": [
    "library(DataExplorer)"
   ]
  },
  {
   "cell_type": "code",
   "execution_count": 5,
   "metadata": {},
   "outputs": [],
   "source": [
    "clusterData = read.csv('Clustered5568FeatureVectors.csv', header = TRUE)"
   ]
  },
  {
   "cell_type": "code",
   "execution_count": 31,
   "metadata": {},
   "outputs": [
    {
     "data": {
      "text/html": [
       "<table class=\"dataframe\">\n",
       "<caption>A data.frame: 6 × 9</caption>\n",
       "<thead>\n",
       "\t<tr><th></th><th scope=col>MDI</th><th scope=col>RespRate</th><th scope=col>RMSSD</th><th scope=col>MADI</th><th scope=col>RMI</th><th scope=col>RMS_DA</th><th scope=col>RF</th><th scope=col>BPI</th><th scope=col>label</th></tr>\n",
       "\t<tr><th></th><th scope=col>&lt;dbl&gt;</th><th scope=col>&lt;int&gt;</th><th scope=col>&lt;dbl&gt;</th><th scope=col>&lt;dbl&gt;</th><th scope=col>&lt;dbl&gt;</th><th scope=col>&lt;dbl&gt;</th><th scope=col>&lt;dbl&gt;</th><th scope=col>&lt;dbl&gt;</th><th scope=col>&lt;int&gt;</th></tr>\n",
       "</thead>\n",
       "<tbody>\n",
       "\t<tr><th scope=row>1</th><td>0.6383333</td><td>15</td><td>0.8302761</td><td>1.775</td><td>0.4213016</td><td>1.0191692</td><td>0.01675000</td><td>0.2554689</td><td>5</td></tr>\n",
       "\t<tr><th scope=row>2</th><td>0.5660000</td><td>13</td><td>0.6350905</td><td>1.080</td><td>0.3627150</td><td>0.9940236</td><td>0.05050000</td><td>0.1853532</td><td>5</td></tr>\n",
       "\t<tr><th scope=row>3</th><td>0.4700000</td><td>15</td><td>0.5088516</td><td>0.705</td><td>0.3953296</td><td>0.9971468</td><td>0.00000000</td><td>0.2323357</td><td>5</td></tr>\n",
       "\t<tr><th scope=row>4</th><td>0.3483333</td><td>15</td><td>0.4816119</td><td>0.940</td><td>0.4028450</td><td>0.9837721</td><td>0.01666667</td><td>0.2386513</td><td>5</td></tr>\n",
       "\t<tr><th scope=row>5</th><td>0.4610000</td><td>14</td><td>0.4997950</td><td>0.735</td><td>0.3846904</td><td>1.0088626</td><td>0.01675000</td><td>0.2243535</td><td>5</td></tr>\n",
       "\t<tr><th scope=row>6</th><td>0.3840000</td><td>14</td><td>0.4620822</td><td>0.730</td><td>0.3718672</td><td>1.0052187</td><td>0.01666667</td><td>0.2155469</td><td>5</td></tr>\n",
       "</tbody>\n",
       "</table>\n"
      ],
      "text/latex": [
       "A data.frame: 6 × 9\n",
       "\\begin{tabular}{r|lllllllll}\n",
       "  & MDI & RespRate & RMSSD & MADI & RMI & RMS\\_DA & RF & BPI & label\\\\\n",
       "  & <dbl> & <int> & <dbl> & <dbl> & <dbl> & <dbl> & <dbl> & <dbl> & <int>\\\\\n",
       "\\hline\n",
       "\t1 & 0.6383333 & 15 & 0.8302761 & 1.775 & 0.4213016 & 1.0191692 & 0.01675000 & 0.2554689 & 5\\\\\n",
       "\t2 & 0.5660000 & 13 & 0.6350905 & 1.080 & 0.3627150 & 0.9940236 & 0.05050000 & 0.1853532 & 5\\\\\n",
       "\t3 & 0.4700000 & 15 & 0.5088516 & 0.705 & 0.3953296 & 0.9971468 & 0.00000000 & 0.2323357 & 5\\\\\n",
       "\t4 & 0.3483333 & 15 & 0.4816119 & 0.940 & 0.4028450 & 0.9837721 & 0.01666667 & 0.2386513 & 5\\\\\n",
       "\t5 & 0.4610000 & 14 & 0.4997950 & 0.735 & 0.3846904 & 1.0088626 & 0.01675000 & 0.2243535 & 5\\\\\n",
       "\t6 & 0.3840000 & 14 & 0.4620822 & 0.730 & 0.3718672 & 1.0052187 & 0.01666667 & 0.2155469 & 5\\\\\n",
       "\\end{tabular}\n"
      ],
      "text/markdown": [
       "\n",
       "A data.frame: 6 × 9\n",
       "\n",
       "| <!--/--> | MDI &lt;dbl&gt; | RespRate &lt;int&gt; | RMSSD &lt;dbl&gt; | MADI &lt;dbl&gt; | RMI &lt;dbl&gt; | RMS_DA &lt;dbl&gt; | RF &lt;dbl&gt; | BPI &lt;dbl&gt; | label &lt;int&gt; |\n",
       "|---|---|---|---|---|---|---|---|---|---|\n",
       "| 1 | 0.6383333 | 15 | 0.8302761 | 1.775 | 0.4213016 | 1.0191692 | 0.01675000 | 0.2554689 | 5 |\n",
       "| 2 | 0.5660000 | 13 | 0.6350905 | 1.080 | 0.3627150 | 0.9940236 | 0.05050000 | 0.1853532 | 5 |\n",
       "| 3 | 0.4700000 | 15 | 0.5088516 | 0.705 | 0.3953296 | 0.9971468 | 0.00000000 | 0.2323357 | 5 |\n",
       "| 4 | 0.3483333 | 15 | 0.4816119 | 0.940 | 0.4028450 | 0.9837721 | 0.01666667 | 0.2386513 | 5 |\n",
       "| 5 | 0.4610000 | 14 | 0.4997950 | 0.735 | 0.3846904 | 1.0088626 | 0.01675000 | 0.2243535 | 5 |\n",
       "| 6 | 0.3840000 | 14 | 0.4620822 | 0.730 | 0.3718672 | 1.0052187 | 0.01666667 | 0.2155469 | 5 |\n",
       "\n"
      ],
      "text/plain": [
       "  MDI       RespRate RMSSD     MADI  RMI       RMS_DA    RF         BPI      \n",
       "1 0.6383333 15       0.8302761 1.775 0.4213016 1.0191692 0.01675000 0.2554689\n",
       "2 0.5660000 13       0.6350905 1.080 0.3627150 0.9940236 0.05050000 0.1853532\n",
       "3 0.4700000 15       0.5088516 0.705 0.3953296 0.9971468 0.00000000 0.2323357\n",
       "4 0.3483333 15       0.4816119 0.940 0.4028450 0.9837721 0.01666667 0.2386513\n",
       "5 0.4610000 14       0.4997950 0.735 0.3846904 1.0088626 0.01675000 0.2243535\n",
       "6 0.3840000 14       0.4620822 0.730 0.3718672 1.0052187 0.01666667 0.2155469\n",
       "  label\n",
       "1 5    \n",
       "2 5    \n",
       "3 5    \n",
       "4 5    \n",
       "5 5    \n",
       "6 5    "
      ]
     },
     "metadata": {},
     "output_type": "display_data"
    }
   ],
   "source": [
    "head(clusterData)"
   ]
  },
  {
   "cell_type": "code",
   "execution_count": 6,
   "metadata": {},
   "outputs": [
    {
     "name": "stderr",
     "output_type": "stream",
     "text": [
      "\n",
      "\n",
      "processing file: report.rmd\n",
      "\n"
     ]
    },
    {
     "name": "stdout",
     "output_type": "stream",
     "text": [
      "1/42                                 \n",
      "2/42 [global_options]                \n",
      "3/42                                 \n",
      "4/42 [introduce]                     \n",
      "5/42                                 \n",
      "6/42 [plot_intro]                    \n",
      "7/42                                 \n",
      "8/42 [data_structure]                \n",
      "9/42                                 \n",
      "10/42 [missing_profile]               \n",
      "11/42                                 \n",
      "12/42 [univariate_distribution_header]\n",
      "13/42                                 \n",
      "14/42 [plot_histogram]                \n",
      "15/42                                 \n",
      "16/42 [plot_density]                  \n",
      "17/42                                 \n",
      "18/42 [plot_frequency_bar]            \n",
      "19/42                                 \n",
      "20/42 [plot_response_bar]             \n",
      "21/42                                 \n",
      "22/42 [plot_with_bar]                 \n",
      "23/42                                 \n",
      "24/42 [plot_normal_qq]                \n",
      "25/42                                 \n",
      "26/42 [plot_response_qq]              \n",
      "27/42                                 \n",
      "28/42 [plot_by_qq]                    \n",
      "29/42                                 \n",
      "30/42 [correlation_analysis]          \n",
      "31/42                                 \n",
      "32/42 [principal_component_analysis]  \n",
      "33/42                                 \n",
      "34/42 [bivariate_distribution_header] \n",
      "35/42                                 \n",
      "36/42 [plot_response_boxplot]         \n",
      "37/42                                 \n",
      "38/42 [plot_by_boxplot]               \n",
      "39/42                                 \n",
      "40/42 [plot_response_scatterplot]     \n",
      "41/42                                 \n",
      "42/42 [plot_by_scatterplot]           \n"
     ]
    },
    {
     "name": "stderr",
     "output_type": "stream",
     "text": [
      "output file: /home/jovyan/Nautilus_Kubernetes_DeepLearning/report.knit.md\n",
      "\n",
      "\n"
     ]
    },
    {
     "name": "stdout",
     "output_type": "stream",
     "text": [
      "/opt/conda/bin/pandoc +RTS -K512m -RTS /home/jovyan/Nautilus_Kubernetes_DeepLearning/report.knit.md --to html4 --from markdown+autolink_bare_uris+tex_math_single_backslash --output /home/jovyan/Nautilus_Kubernetes_DeepLearning/report.html --lua-filter /opt/conda/lib/R/library/rmarkdown/rmarkdown/lua/pagebreak.lua --lua-filter /opt/conda/lib/R/library/rmarkdown/rmarkdown/lua/latex-div.lua --embed-resources --standalone --variable bs3=TRUE --section-divs --table-of-contents --toc-depth 6 --template /opt/conda/lib/R/library/rmarkdown/rmd/h/default.html --no-highlight --variable highlightjs=1 --variable theme=yeti --mathjax --variable 'mathjax-url=https://mathjax.rstudio.com/latest/MathJax.js?config=TeX-AMS-MML_HTMLorMML' --include-in-header /tmp/Rtmp5SIKtm/rmarkdown-strfd377b4bae.html \n"
     ]
    },
    {
     "name": "stderr",
     "output_type": "stream",
     "text": [
      "\n",
      "Output created: report.html\n",
      "\n"
     ]
    },
    {
     "ename": "ERROR",
     "evalue": "Error in browseURL(report_path): 'browser' must be a non-empty character string\n",
     "output_type": "error",
     "traceback": [
      "Error in browseURL(report_path): 'browser' must be a non-empty character string\nTraceback:\n",
      "1. create_report(clusterData)",
      "2. browseURL(report_path)",
      "3. stop(\"'browser' must be a non-empty character string\")"
     ]
    }
   ],
   "source": [
    "create_report(clusterData)"
   ]
  },
  {
   "cell_type": "code",
   "execution_count": 8,
   "metadata": {},
   "outputs": [
    {
     "data": {
      "image/png": "[encoded data removed]",
      "text/plain": [
       "plot without title"
      ]
     },
     "metadata": {
      "image/png": {
       "height": 420,
       "width": 420
      }
     },
     "output_type": "display_data"
    }
   ],
   "source": [
    "plot_boxplot(clusterData, by = \"label\")"
   ]
  },
  {
   "cell_type": "code",
   "execution_count": 9,
   "metadata": {},
   "outputs": [
    {
     "data": {
      "image/png": "[encoded data removed]",
      "text/plain": [
       "plot without title"
      ]
     },
     "metadata": {
      "image/png": {
       "height": 420,
       "width": 420
      }
     },
     "output_type": "display_data"
    },
    {
     "data": {
      "image/png": "[encoded data removed]",
      "text/plain": [
       "plot without title"
      ]
     },
     "metadata": {
      "image/png": {
       "height": 420,
       "width": 420
      }
     },
     "output_type": "display_data"
    }
   ],
   "source": [
    "plot_prcomp(clusterData,maxcat = 5L)"
   ]
  },
  {
   "cell_type": "markdown",
   "metadata": {},
   "source": [
    "#  Normality Tests to confirm data is Non-Normal\n",
    "## And parameterized statistical methods are not appropriate"
   ]
  },
  {
   "cell_type": "code",
   "execution_count": 23,
   "metadata": {},
   "outputs": [
    {
     "name": "stdout",
     "output_type": "stream",
     "text": [
      "\n",
      "Shapiro-Wilk MDI"
     ]
    },
    {
     "data": {
      "text/plain": [
       "\n",
       "\tShapiro-Wilk normality test\n",
       "\n",
       "data:  sample(clusterData$MDI, 5000)\n",
       "W = 0.7504, p-value < 2.2e-16\n"
      ]
     },
     "metadata": {},
     "output_type": "display_data"
    },
    {
     "name": "stdout",
     "output_type": "stream",
     "text": [
      "\n",
      "Shapiro-Wilk RespRate"
     ]
    },
    {
     "data": {
      "text/plain": [
       "\n",
       "\tShapiro-Wilk normality test\n",
       "\n",
       "data:  sample(clusterData$RespRate, 5000)\n",
       "W = 0.96108, p-value < 2.2e-16\n"
      ]
     },
     "metadata": {},
     "output_type": "display_data"
    },
    {
     "name": "stdout",
     "output_type": "stream",
     "text": [
      "\n",
      "Shapiro-Wilk RMSSD"
     ]
    },
    {
     "data": {
      "text/plain": [
       "\n",
       "\tShapiro-Wilk normality test\n",
       "\n",
       "data:  sample(clusterData$RMSSD, 5000)\n",
       "W = 0.76243, p-value < 2.2e-16\n"
      ]
     },
     "metadata": {},
     "output_type": "display_data"
    },
    {
     "name": "stdout",
     "output_type": "stream",
     "text": [
      "\n",
      "Shapiro-Wilk MADI"
     ]
    },
    {
     "data": {
      "text/plain": [
       "\n",
       "\tShapiro-Wilk normality test\n",
       "\n",
       "data:  sample(clusterData$MADI, 5000)\n",
       "W = 0.7656, p-value < 2.2e-16\n"
      ]
     },
     "metadata": {},
     "output_type": "display_data"
    },
    {
     "name": "stdout",
     "output_type": "stream",
     "text": [
      "\n",
      "Shapiro-Wilk RMI"
     ]
    },
    {
     "data": {
      "text/plain": [
       "\n",
       "\tShapiro-Wilk normality test\n",
       "\n",
       "data:  sample(clusterData$RMI, 5000)\n",
       "W = 0.84852, p-value < 2.2e-16\n"
      ]
     },
     "metadata": {},
     "output_type": "display_data"
    },
    {
     "name": "stdout",
     "output_type": "stream",
     "text": [
      "\n",
      "Shapiro-Wilk RMS_DA"
     ]
    },
    {
     "data": {
      "text/plain": [
       "\n",
       "\tShapiro-Wilk normality test\n",
       "\n",
       "data:  sample(clusterData$RMS_DA, 5000)\n",
       "W = 0.73799, p-value < 2.2e-16\n"
      ]
     },
     "metadata": {},
     "output_type": "display_data"
    },
    {
     "name": "stdout",
     "output_type": "stream",
     "text": [
      "\n",
      "Shapiro-Wilk RF"
     ]
    },
    {
     "data": {
      "text/plain": [
       "\n",
       "\tShapiro-Wilk normality test\n",
       "\n",
       "data:  sample(clusterData$RF, 5000)\n",
       "W = 0.81764, p-value < 2.2e-16\n"
      ]
     },
     "metadata": {},
     "output_type": "display_data"
    },
    {
     "name": "stdout",
     "output_type": "stream",
     "text": [
      "\n",
      "Shapiro-Wilk BPI"
     ]
    },
    {
     "data": {
      "text/plain": [
       "\n",
       "\tShapiro-Wilk normality test\n",
       "\n",
       "data:  sample(clusterData$BPI, 5000)\n",
       "W = 0.71213, p-value < 2.2e-16\n"
      ]
     },
     "metadata": {},
     "output_type": "display_data"
    }
   ],
   "source": [
    "# MDI RespRate\tRMSSD\tMADI\tRMI\tRMS_DA\tRF\tBPI\n",
    "cat(\"\\nShapiro-Wilk MDI\")\n",
    "shapiro.test(sample(clusterData$MDI,5000))\n",
    "cat(\"\\nShapiro-Wilk RespRate\")\n",
    "shapiro.test(sample(clusterData$RespRate,5000))\n",
    "cat(\"\\nShapiro-Wilk RMSSD\")\n",
    "shapiro.test(sample(clusterData$RMSSD,5000))\n",
    "cat(\"\\nShapiro-Wilk MADI\")\n",
    "shapiro.test(sample(clusterData$MADI,5000))\n",
    "cat(\"\\nShapiro-Wilk RMI\")\n",
    "shapiro.test(sample(clusterData$RMI,5000))\n",
    "cat(\"\\nShapiro-Wilk RMS_DA\")\n",
    "shapiro.test(sample(clusterData$RMS_DA,5000))\n",
    "cat(\"\\nShapiro-Wilk RF\")\n",
    "shapiro.test(sample(clusterData$RF,5000))\n",
    "cat(\"\\nShapiro-Wilk BPI\")\n",
    "shapiro.test(sample(clusterData$BPI,5000))"
   ]
  },
  {
   "cell_type": "markdown",
   "metadata": {},
   "source": [
    "# Post-Hoc analysis of clusters through ANOVA\n",
    "\n",
    "### Since the data is non-normal, we are assuming non-parametric, we will use the Kruskal-Wallis test.\n",
    "\n",
    "### Null Hypothesis that all clusters (e.g., labels) are the same."
   ]
  },
  {
   "cell_type": "code",
   "execution_count": 40,
   "metadata": {},
   "outputs": [
    {
     "name": "stdout",
     "output_type": "stream",
     "text": [
      "\n",
      " Kruskal-Wallis MDI"
     ]
    },
    {
     "data": {
      "text/plain": [
       "\n",
       "\tKruskal-Wallis rank sum test\n",
       "\n",
       "data:  MDI by label\n",
       "Kruskal-Wallis chi-squared = 1553.7, df = 5, p-value < 2.2e-16\n"
      ]
     },
     "metadata": {},
     "output_type": "display_data"
    },
    {
     "name": "stdout",
     "output_type": "stream",
     "text": [
      "\n",
      "Shapiro-Wilk RespRate"
     ]
    },
    {
     "data": {
      "text/plain": [
       "\n",
       "\tKruskal-Wallis rank sum test\n",
       "\n",
       "data:  RespRate by label\n",
       "Kruskal-Wallis chi-squared = 5123.1, df = 5, p-value < 2.2e-16\n"
      ]
     },
     "metadata": {},
     "output_type": "display_data"
    },
    {
     "name": "stdout",
     "output_type": "stream",
     "text": [
      "\n",
      "Shapiro-Wilk RMSSD"
     ]
    },
    {
     "data": {
      "text/plain": [
       "\n",
       "\tKruskal-Wallis rank sum test\n",
       "\n",
       "data:  RMSSD by label\n",
       "Kruskal-Wallis chi-squared = 1667, df = 5, p-value < 2.2e-16\n"
      ]
     },
     "metadata": {},
     "output_type": "display_data"
    },
    {
     "name": "stdout",
     "output_type": "stream",
     "text": [
      "\n",
      "Shapiro-Wilk MADI"
     ]
    },
    {
     "data": {
      "text/plain": [
       "\n",
       "\tKruskal-Wallis rank sum test\n",
       "\n",
       "data:  MADI by label\n",
       "Kruskal-Wallis chi-squared = 1768.1, df = 5, p-value < 2.2e-16\n"
      ]
     },
     "metadata": {},
     "output_type": "display_data"
    },
    {
     "name": "stdout",
     "output_type": "stream",
     "text": [
      "\n",
      "Shapiro-Wilk RMI"
     ]
    },
    {
     "data": {
      "text/plain": [
       "\n",
       "\tKruskal-Wallis rank sum test\n",
       "\n",
       "data:  RMI by label\n",
       "Kruskal-Wallis chi-squared = 1655.1, df = 5, p-value < 2.2e-16\n"
      ]
     },
     "metadata": {},
     "output_type": "display_data"
    },
    {
     "name": "stdout",
     "output_type": "stream",
     "text": [
      "\n",
      "Shapiro-Wilk RMS_DA"
     ]
    },
    {
     "data": {
      "text/plain": [
       "\n",
       "\tKruskal-Wallis rank sum test\n",
       "\n",
       "data:  RMS_DA by label\n",
       "Kruskal-Wallis chi-squared = 87.454, df = 5, p-value < 2.2e-16\n"
      ]
     },
     "metadata": {},
     "output_type": "display_data"
    },
    {
     "name": "stdout",
     "output_type": "stream",
     "text": [
      "\n",
      "Shapiro-Wilk RF"
     ]
    },
    {
     "data": {
      "text/plain": [
       "\n",
       "\tKruskal-Wallis rank sum test\n",
       "\n",
       "data:  RF by label\n",
       "Kruskal-Wallis chi-squared = 370.14, df = 5, p-value < 2.2e-16\n"
      ]
     },
     "metadata": {},
     "output_type": "display_data"
    },
    {
     "name": "stdout",
     "output_type": "stream",
     "text": [
      "\n",
      "Shapiro-Wilk BPI"
     ]
    },
    {
     "data": {
      "text/plain": [
       "\n",
       "\tKruskal-Wallis rank sum test\n",
       "\n",
       "data:  BPI by label\n",
       "Kruskal-Wallis chi-squared = 1422.1, df = 5, p-value < 2.2e-16\n"
      ]
     },
     "metadata": {},
     "output_type": "display_data"
    }
   ],
   "source": [
    "# MDI RespRate\tRMSSD\tMADI\tRMI\tRMS_DA\tRF\tBPI\n",
    "cat(\"\\n Kruskal-Wallis MDI\")\n",
    "kruskal.test(MDI ~ label, data = clusterData)\n",
    "cat(\"\\nShapiro-Wilk RespRate\")\n",
    "kruskal.test(RespRate ~ label, data = clusterData)\n",
    "cat(\"\\nShapiro-Wilk RMSSD\")\n",
    "kruskal.test(RMSSD ~ label, data = clusterData)\n",
    "cat(\"\\nShapiro-Wilk MADI\")\n",
    "kruskal.test(MADI ~ label, data = clusterData)\n",
    "cat(\"\\nShapiro-Wilk RMI\")\n",
    "kruskal.test(RMI ~ label, data = clusterData)\n",
    "cat(\"\\nShapiro-Wilk RMS_DA\")\n",
    "kruskal.test(RMS_DA ~ label, data = clusterData)\n",
    "cat(\"\\nShapiro-Wilk RF\")\n",
    "kruskal.test(RF ~ label, data = clusterData)\n",
    "cat(\"\\nShapiro-Wilk BPI\")\n",
    "kruskal.test(BPI ~ label, data = clusterData)\n"
   ]
  },
  {
   "cell_type": "code",
   "execution_count": 45,
   "metadata": {},
   "outputs": [
    {
     "name": "stderr",
     "output_type": "stream",
     "text": [
      "also installing the dependency ‘TH.data’\n",
      "\n",
      "\n",
      "Updating HTML index of packages in '.Library'\n",
      "\n",
      "Making 'packages.html' ...\n",
      " done\n",
      "\n",
      "Loading required package: mvtnorm\n",
      "\n",
      "Loading required package: survival\n",
      "\n",
      "Loading required package: TH.data\n",
      "\n",
      "Loading required package: MASS\n",
      "\n",
      "\n",
      "Attaching package: ‘TH.data’\n",
      "\n",
      "\n",
      "The following object is masked from ‘package:MASS’:\n",
      "\n",
      "    geyser\n",
      "\n",
      "\n"
     ]
    }
   ],
   "source": [
    "install.packages(\"multcomp\")\n",
    "library(multcomp)"
   ]
  },
  {
   "cell_type": "markdown",
   "metadata": {},
   "source": [
    "# Post-Hoc Test of rejection of Null Hypothesis that all clusters are the same.\n",
    "\n",
    "### Done on Feature per Feature   `# MDI RespRate\tRMSSD\tMADI\tRMI\tRMS_DA\tRF\tBPI`\n",
    "#### MDI"
   ]
  },
  {
   "cell_type": "code",
   "execution_count": 51,
   "metadata": {},
   "outputs": [
    {
     "data": {
      "text/plain": [
       "\n",
       "\t Simultaneous Tests for General Linear Hypotheses\n",
       "\n",
       "Multiple Comparisons of Means: Tukey Contrasts\n",
       "\n",
       "\n",
       "Fit: aov(formula = MDI ~ label, data = clusterData)\n",
       "\n",
       "Linear Hypotheses:\n",
       "            Estimate Std. Error t value Pr(>|t|)    \n",
       "1 - 0 == 0 -0.210944   0.008812 -23.938  < 0.001 ***\n",
       "2 - 0 == 0  0.414639   0.012697  32.657  < 0.001 ***\n",
       "3 - 0 == 0 -0.063502   0.011890  -5.341  < 0.001 ***\n",
       "4 - 0 == 0 -0.176935   0.009839 -17.983  < 0.001 ***\n",
       "5 - 0 == 0 -0.106247   0.010755  -9.879  < 0.001 ***\n",
       "2 - 1 == 0  0.625583   0.012371  50.568  < 0.001 ***\n",
       "3 - 1 == 0  0.147442   0.011542  12.774  < 0.001 ***\n",
       "4 - 1 == 0  0.034009   0.009415   3.612  0.00402 ** \n",
       "5 - 1 == 0  0.104697   0.010369  10.098  < 0.001 ***\n",
       "3 - 2 == 0 -0.478141   0.014723 -32.475  < 0.001 ***\n",
       "4 - 2 == 0 -0.591574   0.013123 -45.081  < 0.001 ***\n",
       "5 - 2 == 0 -0.520886   0.013823 -37.684  < 0.001 ***\n",
       "4 - 3 == 0 -0.113433   0.012344  -9.189  < 0.001 ***\n",
       "5 - 3 == 0 -0.042745   0.013086  -3.266  0.01328 *  \n",
       "5 - 4 == 0  0.070688   0.011255   6.281  < 0.001 ***\n",
       "---\n",
       "Signif. codes:  0 ‘***’ 0.001 ‘**’ 0.01 ‘*’ 0.05 ‘.’ 0.1 ‘ ’ 1\n",
       "(Adjusted p values reported -- single-step method)\n"
      ]
     },
     "metadata": {},
     "output_type": "display_data"
    }
   ],
   "source": [
    "clusterData$label = factor(clusterData$label)\n",
    "res_aov <- aov(MDI ~ label,   data = clusterData )\n",
    "post_test <- glht(res_aov,   linfct = mcp(label = \"Tukey\") )\n",
    "\n",
    "summary(post_test)"
   ]
  },
  {
   "cell_type": "markdown",
   "metadata": {},
   "source": [
    "#### RespRate"
   ]
  },
  {
   "cell_type": "code",
   "execution_count": 52,
   "metadata": {},
   "outputs": [
    {
     "data": {
      "text/plain": [
       "\n",
       "\t Simultaneous Tests for General Linear Hypotheses\n",
       "\n",
       "Multiple Comparisons of Means: Tukey Contrasts\n",
       "\n",
       "\n",
       "Fit: aov(formula = RespRate ~ label, data = clusterData)\n",
       "\n",
       "Linear Hypotheses:\n",
       "           Estimate Std. Error t value Pr(>|t|)    \n",
       "1 - 0 == 0 -1.70646    0.02517  -67.79   <2e-16 ***\n",
       "2 - 0 == 0 -2.66135    0.03627  -73.38   <2e-16 ***\n",
       "3 - 0 == 0  2.55747    0.03397   75.29   <2e-16 ***\n",
       "4 - 0 == 0 -3.22719    0.02811 -114.82   <2e-16 ***\n",
       "5 - 0 == 0 -4.54566    0.03072 -147.95   <2e-16 ***\n",
       "2 - 1 == 0 -0.95490    0.03534  -27.02   <2e-16 ***\n",
       "3 - 1 == 0  4.26392    0.03297  129.32   <2e-16 ***\n",
       "4 - 1 == 0 -1.52074    0.02690  -56.54   <2e-16 ***\n",
       "5 - 1 == 0 -2.83921    0.02962  -95.86   <2e-16 ***\n",
       "3 - 2 == 0  5.21882    0.04206  124.08   <2e-16 ***\n",
       "4 - 2 == 0 -0.56584    0.03749  -15.09   <2e-16 ***\n",
       "5 - 2 == 0 -1.88431    0.03949  -47.72   <2e-16 ***\n",
       "4 - 3 == 0 -5.78466    0.03526 -164.04   <2e-16 ***\n",
       "5 - 3 == 0 -7.10313    0.03738 -190.02   <2e-16 ***\n",
       "5 - 4 == 0 -1.31847    0.03215  -41.01   <2e-16 ***\n",
       "---\n",
       "Signif. codes:  0 ‘***’ 0.001 ‘**’ 0.01 ‘*’ 0.05 ‘.’ 0.1 ‘ ’ 1\n",
       "(Adjusted p values reported -- single-step method)\n"
      ]
     },
     "metadata": {},
     "output_type": "display_data"
    }
   ],
   "source": [
    "res_aov <- aov(RespRate ~ label,   data = clusterData )\n",
    "post_test <- glht(res_aov,   linfct = mcp(label = \"Tukey\") )\n",
    "\n",
    "summary(post_test)"
   ]
  },
  {
   "cell_type": "markdown",
   "metadata": {},
   "source": [
    "#### RMSSD"
   ]
  },
  {
   "cell_type": "code",
   "execution_count": 53,
   "metadata": {},
   "outputs": [
    {
     "data": {
      "text/plain": [
       "\n",
       "\t Simultaneous Tests for General Linear Hypotheses\n",
       "\n",
       "Multiple Comparisons of Means: Tukey Contrasts\n",
       "\n",
       "\n",
       "Fit: aov(formula = RMSSD ~ label, data = clusterData)\n",
       "\n",
       "Linear Hypotheses:\n",
       "           Estimate Std. Error t value Pr(>|t|)    \n",
       "1 - 0 == 0 -0.30591    0.01150 -26.592   <0.001 ***\n",
       "2 - 0 == 0  0.56582    0.01658  34.137   <0.001 ***\n",
       "3 - 0 == 0 -0.10163    0.01552  -6.548   <0.001 ***\n",
       "4 - 0 == 0 -0.26781    0.01284 -20.850   <0.001 ***\n",
       "5 - 0 == 0 -0.18454    0.01404 -13.144   <0.001 ***\n",
       "2 - 1 == 0  0.87172    0.01615  53.977   <0.001 ***\n",
       "3 - 1 == 0  0.20428    0.01507  13.557   <0.001 ***\n",
       "4 - 1 == 0  0.03810    0.01229   3.100   0.0229 *  \n",
       "5 - 1 == 0  0.12137    0.01354   8.967   <0.001 ***\n",
       "3 - 2 == 0 -0.66745    0.01922 -34.726   <0.001 ***\n",
       "4 - 2 == 0 -0.83362    0.01713 -48.662   <0.001 ***\n",
       "5 - 2 == 0 -0.75035    0.01804 -41.583   <0.001 ***\n",
       "4 - 3 == 0 -0.16617    0.01611 -10.312   <0.001 ***\n",
       "5 - 3 == 0 -0.08290    0.01708  -4.853   <0.001 ***\n",
       "5 - 4 == 0  0.08327    0.01469   5.668   <0.001 ***\n",
       "---\n",
       "Signif. codes:  0 ‘***’ 0.001 ‘**’ 0.01 ‘*’ 0.05 ‘.’ 0.1 ‘ ’ 1\n",
       "(Adjusted p values reported -- single-step method)\n"
      ]
     },
     "metadata": {},
     "output_type": "display_data"
    }
   ],
   "source": [
    "res_aov <- aov(RMSSD ~ label,   data = clusterData )\n",
    "post_test <- glht(res_aov,   linfct = mcp(label = \"Tukey\") )\n",
    "\n",
    "summary(post_test)"
   ]
  },
  {
   "cell_type": "markdown",
   "metadata": {},
   "source": [
    "#### MADI"
   ]
  },
  {
   "cell_type": "code",
   "execution_count": 54,
   "metadata": {},
   "outputs": [
    {
     "data": {
      "text/plain": [
       "\n",
       "\t Simultaneous Tests for General Linear Hypotheses\n",
       "\n",
       "Multiple Comparisons of Means: Tukey Contrasts\n",
       "\n",
       "\n",
       "Fit: aov(formula = MADI ~ label, data = clusterData)\n",
       "\n",
       "Linear Hypotheses:\n",
       "           Estimate Std. Error t value Pr(>|t|)    \n",
       "1 - 0 == 0 -0.63089    0.02087 -30.225   <1e-04 ***\n",
       "2 - 0 == 0  1.00557    0.03007  33.436   <1e-04 ***\n",
       "3 - 0 == 0 -0.19225    0.02816  -6.826   <1e-04 ***\n",
       "4 - 0 == 0 -0.58838    0.02331 -25.246   <1e-04 ***\n",
       "5 - 0 == 0 -0.46445    0.02547 -18.232   <1e-04 ***\n",
       "2 - 1 == 0  1.63646    0.02930  55.846   <1e-04 ***\n",
       "3 - 1 == 0  0.43864    0.02734  16.044   <1e-04 ***\n",
       "4 - 1 == 0  0.04251    0.02230   1.906     0.39    \n",
       "5 - 1 == 0  0.16644    0.02456   6.777   <1e-04 ***\n",
       "3 - 2 == 0 -1.19782    0.03487 -34.347   <1e-04 ***\n",
       "4 - 2 == 0 -1.59395    0.03108 -51.281   <1e-04 ***\n",
       "5 - 2 == 0 -1.47002    0.03274 -44.898   <1e-04 ***\n",
       "4 - 3 == 0 -0.39613    0.02924 -13.548   <1e-04 ***\n",
       "5 - 3 == 0 -0.27220    0.03100  -8.782   <1e-04 ***\n",
       "5 - 4 == 0  0.12393    0.02666   4.649   <1e-04 ***\n",
       "---\n",
       "Signif. codes:  0 ‘***’ 0.001 ‘**’ 0.01 ‘*’ 0.05 ‘.’ 0.1 ‘ ’ 1\n",
       "(Adjusted p values reported -- single-step method)\n"
      ]
     },
     "metadata": {},
     "output_type": "display_data"
    }
   ],
   "source": [
    "res_aov <- aov(MADI ~ label,   data = clusterData )\n",
    "post_test <- glht(res_aov,   linfct = mcp(label = \"Tukey\") )\n",
    "\n",
    "summary(post_test)"
   ]
  },
  {
   "cell_type": "markdown",
   "metadata": {},
   "source": [
    "#### RMI"
   ]
  },
  {
   "cell_type": "code",
   "execution_count": 55,
   "metadata": {},
   "outputs": [
    {
     "data": {
      "text/plain": [
       "\n",
       "\t Simultaneous Tests for General Linear Hypotheses\n",
       "\n",
       "Multiple Comparisons of Means: Tukey Contrasts\n",
       "\n",
       "\n",
       "Fit: aov(formula = RMI ~ label, data = clusterData)\n",
       "\n",
       "Linear Hypotheses:\n",
       "           Estimate Std. Error t value Pr(>|t|)    \n",
       "1 - 0 == 0 -0.06586    0.01383  -4.761   <0.001 ***\n",
       "2 - 0 == 0 -0.12254    0.01993  -6.149   <0.001 ***\n",
       "3 - 0 == 0  0.14181    0.01866   7.598   <0.001 ***\n",
       "4 - 0 == 0  0.03396    0.01544   2.199   0.2320    \n",
       "5 - 0 == 0 -0.40174    0.01688 -23.798   <0.001 ***\n",
       "2 - 1 == 0 -0.05669    0.01942  -2.919   0.0396 *  \n",
       "3 - 1 == 0  0.20767    0.01812  11.463   <0.001 ***\n",
       "4 - 1 == 0  0.09982    0.01478   6.754   <0.001 ***\n",
       "5 - 1 == 0 -0.33589    0.01628 -20.638   <0.001 ***\n",
       "3 - 2 == 0  0.26435    0.02311  11.439   <0.001 ***\n",
       "4 - 2 == 0  0.15651    0.02060   7.598   <0.001 ***\n",
       "5 - 2 == 0 -0.27920    0.02170 -12.868   <0.001 ***\n",
       "4 - 3 == 0 -0.10785    0.01938  -5.566   <0.001 ***\n",
       "5 - 3 == 0 -0.54355    0.02054 -26.463   <0.001 ***\n",
       "5 - 4 == 0 -0.43571    0.01767 -24.664   <0.001 ***\n",
       "---\n",
       "Signif. codes:  0 ‘***’ 0.001 ‘**’ 0.01 ‘*’ 0.05 ‘.’ 0.1 ‘ ’ 1\n",
       "(Adjusted p values reported -- single-step method)\n"
      ]
     },
     "metadata": {},
     "output_type": "display_data"
    }
   ],
   "source": [
    "res_aov <- aov(RMI ~ label,   data = clusterData )\n",
    "post_test <- glht(res_aov,   linfct = mcp(label = \"Tukey\") )\n",
    "\n",
    "summary(post_test)"
   ]
  },
  {
   "cell_type": "markdown",
   "metadata": {},
   "source": [
    "#### RMS_DA"
   ]
  },
  {
   "cell_type": "code",
   "execution_count": 56,
   "metadata": {},
   "outputs": [
    {
     "data": {
      "text/plain": [
       "\n",
       "\t Simultaneous Tests for General Linear Hypotheses\n",
       "\n",
       "Multiple Comparisons of Means: Tukey Contrasts\n",
       "\n",
       "\n",
       "Fit: aov(formula = RMS_DA ~ label, data = clusterData)\n",
       "\n",
       "Linear Hypotheses:\n",
       "             Estimate Std. Error t value Pr(>|t|)    \n",
       "1 - 0 == 0  0.0002527  0.0009894   0.255   0.9998    \n",
       "2 - 0 == 0  0.0004449  0.0014256   0.312   0.9996    \n",
       "3 - 0 == 0 -0.0022711  0.0013351  -1.701   0.5229    \n",
       "4 - 0 == 0  0.0018523  0.0011048   1.677   0.5394    \n",
       "5 - 0 == 0  0.0056090  0.0012076   4.645   <0.001 ***\n",
       "2 - 1 == 0  0.0001921  0.0013891   0.138   1.0000    \n",
       "3 - 1 == 0 -0.0025238  0.0012960  -1.947   0.3653    \n",
       "4 - 1 == 0  0.0015995  0.0010572   1.513   0.6485    \n",
       "5 - 1 == 0  0.0053563  0.0011642   4.601   <0.001 ***\n",
       "3 - 2 == 0 -0.0027159  0.0016532  -1.643   0.5620    \n",
       "4 - 2 == 0  0.0014074  0.0014734   0.955   0.9295    \n",
       "5 - 2 == 0  0.0051641  0.0015520   3.327   0.0109 *  \n",
       "4 - 3 == 0  0.0041233  0.0013860   2.975   0.0335 *  \n",
       "5 - 3 == 0  0.0078801  0.0014693   5.363   <0.001 ***\n",
       "5 - 4 == 0  0.0037568  0.0012637   2.973   0.0338 *  \n",
       "---\n",
       "Signif. codes:  0 ‘***’ 0.001 ‘**’ 0.01 ‘*’ 0.05 ‘.’ 0.1 ‘ ’ 1\n",
       "(Adjusted p values reported -- single-step method)\n"
      ]
     },
     "metadata": {},
     "output_type": "display_data"
    }
   ],
   "source": [
    "res_aov <- aov(RMS_DA ~ label,   data = clusterData )\n",
    "post_test <- glht(res_aov,   linfct = mcp(label = \"Tukey\") )\n",
    "\n",
    "summary(post_test)"
   ]
  },
  {
   "cell_type": "markdown",
   "metadata": {},
   "source": [
    "#### RF"
   ]
  },
  {
   "cell_type": "code",
   "execution_count": 57,
   "metadata": {},
   "outputs": [
    {
     "data": {
      "text/plain": [
       "\n",
       "\t Simultaneous Tests for General Linear Hypotheses\n",
       "\n",
       "Multiple Comparisons of Means: Tukey Contrasts\n",
       "\n",
       "\n",
       "Fit: aov(formula = RF ~ label, data = clusterData)\n",
       "\n",
       "Linear Hypotheses:\n",
       "             Estimate Std. Error t value Pr(>|t|)    \n",
       "1 - 0 == 0 -0.0068060  0.0011441  -5.949   <0.001 ***\n",
       "2 - 0 == 0 -0.0069676  0.0016485  -4.227   <0.001 ***\n",
       "3 - 0 == 0  0.0008127  0.0015438   0.526   0.9949    \n",
       "4 - 0 == 0 -0.0121542  0.0012774  -9.514   <0.001 ***\n",
       "5 - 0 == 0 -0.0217639  0.0013964 -15.586   <0.001 ***\n",
       "2 - 1 == 0 -0.0001617  0.0016062  -0.101   1.0000    \n",
       "3 - 1 == 0  0.0076187  0.0014985   5.084   <0.001 ***\n",
       "4 - 1 == 0 -0.0053482  0.0012224  -4.375   <0.001 ***\n",
       "5 - 1 == 0 -0.0149579  0.0013462 -11.111   <0.001 ***\n",
       "3 - 2 == 0  0.0077803  0.0019116   4.070   <0.001 ***\n",
       "4 - 2 == 0 -0.0051866  0.0017037  -3.044   0.0272 *  \n",
       "5 - 2 == 0 -0.0147962  0.0017946  -8.245   <0.001 ***\n",
       "4 - 3 == 0 -0.0129669  0.0016027  -8.091   <0.001 ***\n",
       "5 - 3 == 0 -0.0225766  0.0016990 -13.288   <0.001 ***\n",
       "5 - 4 == 0 -0.0096097  0.0014612  -6.577   <0.001 ***\n",
       "---\n",
       "Signif. codes:  0 ‘***’ 0.001 ‘**’ 0.01 ‘*’ 0.05 ‘.’ 0.1 ‘ ’ 1\n",
       "(Adjusted p values reported -- single-step method)\n"
      ]
     },
     "metadata": {},
     "output_type": "display_data"
    }
   ],
   "source": [
    "res_aov <- aov(RF ~ label,   data = clusterData )\n",
    "post_test <- glht(res_aov,   linfct = mcp(label = \"Tukey\") )\n",
    "\n",
    "summary(post_test)"
   ]
  },
  {
   "cell_type": "markdown",
   "metadata": {},
   "source": [
    "#### BPI"
   ]
  },
  {
   "cell_type": "code",
   "execution_count": 58,
   "metadata": {},
   "outputs": [
    {
     "data": {
      "text/plain": [
       "\n",
       "\t Simultaneous Tests for General Linear Hypotheses\n",
       "\n",
       "Multiple Comparisons of Means: Tukey Contrasts\n",
       "\n",
       "\n",
       "Fit: aov(formula = BPI ~ label, data = clusterData)\n",
       "\n",
       "Linear Hypotheses:\n",
       "           Estimate Std. Error t value Pr(>|t|)    \n",
       "1 - 0 == 0 -0.15140    0.01346 -11.246  < 1e-04 ***\n",
       "2 - 0 == 0 -0.07990    0.01940  -4.119  0.00059 ***\n",
       "3 - 0 == 0  0.24788    0.01817  13.645  < 1e-04 ***\n",
       "4 - 0 == 0 -0.25321    0.01503 -16.844  < 1e-04 ***\n",
       "5 - 0 == 0 -0.34770    0.01643 -21.161  < 1e-04 ***\n",
       "2 - 1 == 0  0.07150    0.01890   3.783  0.00212 ** \n",
       "3 - 1 == 0  0.39928    0.01763  22.643  < 1e-04 ***\n",
       "4 - 1 == 0 -0.10180    0.01438  -7.077  < 1e-04 ***\n",
       "5 - 1 == 0 -0.19629    0.01584 -12.392  < 1e-04 ***\n",
       "3 - 2 == 0  0.32778    0.02249  14.572  < 1e-04 ***\n",
       "4 - 2 == 0 -0.17330    0.02005  -8.644  < 1e-04 ***\n",
       "5 - 2 == 0 -0.26779    0.02112 -12.681  < 1e-04 ***\n",
       "4 - 3 == 0 -0.50108    0.01886 -26.570  < 1e-04 ***\n",
       "5 - 3 == 0 -0.59557    0.01999 -29.790  < 1e-04 ***\n",
       "5 - 4 == 0 -0.09449    0.01719  -5.495  < 1e-04 ***\n",
       "---\n",
       "Signif. codes:  0 ‘***’ 0.001 ‘**’ 0.01 ‘*’ 0.05 ‘.’ 0.1 ‘ ’ 1\n",
       "(Adjusted p values reported -- single-step method)\n"
      ]
     },
     "metadata": {},
     "output_type": "display_data"
    }
   ],
   "source": [
    "res_aov <- aov(BPI ~ label,   data = clusterData )\n",
    "post_test <- glht(res_aov,   linfct = mcp(label = \"Tukey\") )\n",
    "\n",
    "summary(post_test)"
   ]
  },
  {
   "cell_type": "code",
   "execution_count": null,
   "metadata": {},
   "outputs": [],
   "source": []
  }
 ],
 "metadata": {
  "kernelspec": {
   "display_name": "R",
   "language": "R",
   "name": "ir"
  },
  "language_info": {
   "codemirror_mode": "r",
   "file_extension": ".r",
   "mimetype": "text/x-r-source",
   "name": "R",
   "pygments_lexer": "r",
   "version": "3.5.1"
  }
 },
 "nbformat": 4,
 "nbformat_minor": 5
}
